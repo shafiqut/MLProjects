{
 "cells": [
  {
   "cell_type": "code",
   "execution_count": 25,
   "id": "29bd726b",
   "metadata": {},
   "outputs": [],
   "source": [
    "# Define Class 'Shirt'\n",
    "class Pants:\n",
    "    \n",
    "    \"\"\"The Pants class represents an article of clothing sold in the store \"\"\" # docstring\n",
    "    def __init__ (self, pants_color, pants_waste_size, pants_length, pants_price):\n",
    "        \"\"\"Method for initializing a Pants object\n",
    "\n",
    "        Args: \n",
    "            color (str)\n",
    "            waist_size (int)\n",
    "            length (int)\n",
    "            price (float)\n",
    "\n",
    "        Attributes:\n",
    "            color (str): color of a pants object\n",
    "            waist_size (str): waist size of a pants object\n",
    "            length (str): length of a pants object\n",
    "            price (float): price of a pants object\n",
    "        \"\"\"\n",
    "        self.color = pants_color\n",
    "        self.waste_size = pants_waste_size\n",
    "        self.length = pants_length\n",
    "        self.price = pants_price\n",
    "    \n",
    "    \n",
    "    \n",
    "    def change_price (self,new_price):\n",
    "        \"\"\"The change_price method changes the price attribute of a pants object\n",
    "\n",
    "        Args: \n",
    "            new_price (float): the new price of the pants object\n",
    "\n",
    "        Returns: None\n",
    "\n",
    "        \"\"\"\n",
    "        self.price = new_price\n",
    "    \n",
    "    def discount(self, discount):\n",
    "        \"\"\"The discount method outputs a discounted price of a pants object\n",
    "\n",
    "        Args:\n",
    "            percentage (float): a decimal representing the amount to discount\n",
    "\n",
    "        Returns:\n",
    "            float: the discounted price\n",
    "        \"\"\"\n",
    "        return self.price * (1 - discount)\n",
    "    "
   ]
  },
  {
   "cell_type": "code",
   "execution_count": 21,
   "id": "382b5b11",
   "metadata": {},
   "outputs": [
    {
     "name": "stdout",
     "output_type": "stream",
     "text": [
      "<__main__.Pants object at 0x000001E56C035D90>\n",
      "35\n",
      "70\n"
     ]
    },
    {
     "data": {
      "text/plain": [
       "22.5"
      ]
     },
     "execution_count": 21,
     "metadata": {},
     "output_type": "execute_result"
    }
   ],
   "source": [
    "# Instantiate Class Shirt\n",
    "\n",
    "pant_one = Pants ('blue' , 32, 36 , 45)\n",
    "pant_two = Pants ('white' , 32, 42 ,35)\n",
    "\n",
    "print (pant_one)\n",
    "print (pant_two.price)\n",
    "\n",
    "\n",
    "pant_two.change_price (70)\n",
    "print (pant_two.price)\n",
    "\n",
    "pant_one.discount(0.5)"
   ]
  }
 ],
 "metadata": {
  "kernelspec": {
   "display_name": "Python 3",
   "language": "python",
   "name": "python3"
  },
  "language_info": {
   "codemirror_mode": {
    "name": "ipython",
    "version": 3
   },
   "file_extension": ".py",
   "mimetype": "text/x-python",
   "name": "python",
   "nbconvert_exporter": "python",
   "pygments_lexer": "ipython3",
   "version": "3.8.8"
  }
 },
 "nbformat": 4,
 "nbformat_minor": 5
}
